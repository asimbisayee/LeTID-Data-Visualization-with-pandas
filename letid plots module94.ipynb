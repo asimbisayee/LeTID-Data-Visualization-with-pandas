{
 "cells": [
  {
   "cell_type": "code",
   "execution_count": 1,
   "metadata": {},
   "outputs": [],
   "source": [
    "import pandas as pd\n",
    "import op\n",
    "from tqdm import tqdm\n",
    "import matplotlib.pyplot as plt\n",
    "import datetime"
   ]
  },
  {
   "cell_type": "code",
   "execution_count": 44,
   "metadata": {},
   "outputs": [],
   "source": [
    "data=op.getting_files()\n",
    "data= list(data)\n",
    "l=len(data)"
   ]
  },
  {
   "cell_type": "code",
   "execution_count": 48,
   "metadata": {},
   "outputs": [],
   "source": [
    "# # for i in tqdm(range(l)):\n",
    "#     f=data[i]\n",
    "#     df1=pd.read_excel(f,sheet_name='defbuffer1_1120_180553')\n",
    "#     df2=pd.read_excel(f,sheet_name='Sheet1')"
   ]
  },
  {
   "cell_type": "code",
   "execution_count": 49,
   "metadata": {},
   "outputs": [],
   "source": [
    "# # for i in tqdm(range(l)):\n",
    "#     f=data[i]\n",
    "#     df1=pd.read_excel(f,skiprows=8)\n",
    "#     df2=pd.read_excel(f,skiprows=[x for x in range(8,len(df1)+9)])"
   ]
  },
  {
   "cell_type": "code",
   "execution_count": 50,
   "metadata": {},
   "outputs": [
    {
     "data": {
      "text/html": [
       "<div>\n",
       "<style scoped>\n",
       "    .dataframe tbody tr th:only-of-type {\n",
       "        vertical-align: middle;\n",
       "    }\n",
       "\n",
       "    .dataframe tbody tr th {\n",
       "        vertical-align: top;\n",
       "    }\n",
       "\n",
       "    .dataframe thead th {\n",
       "        text-align: right;\n",
       "    }\n",
       "</style>\n",
       "<table border=\"1\" class=\"dataframe\">\n",
       "  <thead>\n",
       "    <tr style=\"text-align: right;\">\n",
       "      <th></th>\n",
       "      <th>Current</th>\n",
       "      <th>Voltage</th>\n",
       "      <th>rel_time</th>\n",
       "    </tr>\n",
       "    <tr>\n",
       "      <th>Datetime</th>\n",
       "      <th></th>\n",
       "      <th></th>\n",
       "      <th></th>\n",
       "    </tr>\n",
       "  </thead>\n",
       "  <tbody>\n",
       "    <tr>\n",
       "      <th>2020-11-12 20:07:35</th>\n",
       "      <td>0.599964</td>\n",
       "      <td>36.333426</td>\n",
       "      <td>1.486306</td>\n",
       "    </tr>\n",
       "    <tr>\n",
       "      <th>2020-11-12 20:07:40</th>\n",
       "      <td>0.599964</td>\n",
       "      <td>36.332702</td>\n",
       "      <td>5.490771</td>\n",
       "    </tr>\n",
       "    <tr>\n",
       "      <th>2020-11-12 20:07:45</th>\n",
       "      <td>0.599965</td>\n",
       "      <td>36.332017</td>\n",
       "      <td>9.584404</td>\n",
       "    </tr>\n",
       "    <tr>\n",
       "      <th>2020-11-12 20:07:50</th>\n",
       "      <td>0.599966</td>\n",
       "      <td>36.331144</td>\n",
       "      <td>15.416597</td>\n",
       "    </tr>\n",
       "    <tr>\n",
       "      <th>2020-11-12 20:07:55</th>\n",
       "      <td>0.599966</td>\n",
       "      <td>36.330461</td>\n",
       "      <td>20.449091</td>\n",
       "    </tr>\n",
       "  </tbody>\n",
       "</table>\n",
       "</div>"
      ],
      "text/plain": [
       "                      Current    Voltage   rel_time\n",
       "Datetime                                           \n",
       "2020-11-12 20:07:35  0.599964  36.333426   1.486306\n",
       "2020-11-12 20:07:40  0.599964  36.332702   5.490771\n",
       "2020-11-12 20:07:45  0.599965  36.332017   9.584404\n",
       "2020-11-12 20:07:50  0.599966  36.331144  15.416597\n",
       "2020-11-12 20:07:55  0.599966  36.330461  20.449091"
      ]
     },
     "execution_count": 50,
     "metadata": {},
     "output_type": "execute_result"
    }
   ],
   "source": [
    "df1.head()"
   ]
  },
  {
   "cell_type": "code",
   "execution_count": 51,
   "metadata": {},
   "outputs": [],
   "source": [
    "# df3=df1.iloc[:,[0,13,21]]\n",
    "# df3.columns=['Current','Voltage','rel_time']"
   ]
  },
  {
   "cell_type": "code",
   "execution_count": 54,
   "metadata": {},
   "outputs": [
    {
     "data": {
      "text/html": [
       "<div>\n",
       "<style scoped>\n",
       "    .dataframe tbody tr th:only-of-type {\n",
       "        vertical-align: middle;\n",
       "    }\n",
       "\n",
       "    .dataframe tbody tr th {\n",
       "        vertical-align: top;\n",
       "    }\n",
       "\n",
       "    .dataframe thead th {\n",
       "        text-align: right;\n",
       "    }\n",
       "</style>\n",
       "<table border=\"1\" class=\"dataframe\">\n",
       "  <thead>\n",
       "    <tr style=\"text-align: right;\">\n",
       "      <th></th>\n",
       "      <th>Current</th>\n",
       "      <th>Voltage</th>\n",
       "      <th>rel_time</th>\n",
       "    </tr>\n",
       "    <tr>\n",
       "      <th>Datetime</th>\n",
       "      <th></th>\n",
       "      <th></th>\n",
       "      <th></th>\n",
       "    </tr>\n",
       "  </thead>\n",
       "  <tbody>\n",
       "    <tr>\n",
       "      <th>2020-11-15 08:44:40</th>\n",
       "      <td>0.59996</td>\n",
       "      <td>36.256649</td>\n",
       "      <td>1.811660</td>\n",
       "    </tr>\n",
       "    <tr>\n",
       "      <th>2020-11-15 08:44:45</th>\n",
       "      <td>0.59996</td>\n",
       "      <td>36.255891</td>\n",
       "      <td>6.441467</td>\n",
       "    </tr>\n",
       "    <tr>\n",
       "      <th>2020-11-15 08:44:50</th>\n",
       "      <td>0.59996</td>\n",
       "      <td>36.255084</td>\n",
       "      <td>11.473824</td>\n",
       "    </tr>\n",
       "    <tr>\n",
       "      <th>2020-11-15 08:44:55</th>\n",
       "      <td>0.59996</td>\n",
       "      <td>36.254218</td>\n",
       "      <td>16.506173</td>\n",
       "    </tr>\n",
       "    <tr>\n",
       "      <th>2020-11-15 08:45:00</th>\n",
       "      <td>0.59996</td>\n",
       "      <td>36.253304</td>\n",
       "      <td>21.538570</td>\n",
       "    </tr>\n",
       "  </tbody>\n",
       "</table>\n",
       "</div>"
      ],
      "text/plain": [
       "                     Current    Voltage   rel_time\n",
       "Datetime                                          \n",
       "2020-11-15 08:44:40  0.59996  36.256649   1.811660\n",
       "2020-11-15 08:44:45  0.59996  36.255891   6.441467\n",
       "2020-11-15 08:44:50  0.59996  36.255084  11.473824\n",
       "2020-11-15 08:44:55  0.59996  36.254218  16.506173\n",
       "2020-11-15 08:45:00  0.59996  36.253304  21.538570"
      ]
     },
     "execution_count": 54,
     "metadata": {},
     "output_type": "execute_result"
    }
   ],
   "source": [
    "df2.head()"
   ]
  },
  {
   "cell_type": "code",
   "execution_count": 53,
   "metadata": {},
   "outputs": [],
   "source": [
    "# new=df3.loc[7520,'rel_time']\n",
    "# old=df3.loc[7519,'rel_time']\n",
    "# for i in tqdm(range(7520,len(df3))):\n",
    "#     t=(df3['rel_time'][i]-new)\n",
    "#     df3.iloc[i,2]=old+t"
   ]
  },
  {
   "cell_type": "code",
   "execution_count": 55,
   "metadata": {},
   "outputs": [
    {
     "data": {
      "text/html": [
       "<div>\n",
       "<style scoped>\n",
       "    .dataframe tbody tr th:only-of-type {\n",
       "        vertical-align: middle;\n",
       "    }\n",
       "\n",
       "    .dataframe tbody tr th {\n",
       "        vertical-align: top;\n",
       "    }\n",
       "\n",
       "    .dataframe thead th {\n",
       "        text-align: right;\n",
       "    }\n",
       "</style>\n",
       "<table border=\"1\" class=\"dataframe\">\n",
       "  <thead>\n",
       "    <tr style=\"text-align: right;\">\n",
       "      <th></th>\n",
       "      <th>Current</th>\n",
       "      <th>Voltage</th>\n",
       "      <th>rel_time</th>\n",
       "    </tr>\n",
       "    <tr>\n",
       "      <th>Datetime</th>\n",
       "      <th></th>\n",
       "      <th></th>\n",
       "      <th></th>\n",
       "    </tr>\n",
       "  </thead>\n",
       "  <tbody>\n",
       "    <tr>\n",
       "      <th>2020-11-17 19:41:25</th>\n",
       "      <td>0.599963</td>\n",
       "      <td>36.308162</td>\n",
       "      <td>1.576820</td>\n",
       "    </tr>\n",
       "    <tr>\n",
       "      <th>2020-11-17 19:41:30</th>\n",
       "      <td>0.599963</td>\n",
       "      <td>36.308227</td>\n",
       "      <td>5.700747</td>\n",
       "    </tr>\n",
       "    <tr>\n",
       "      <th>2020-11-17 19:41:35</th>\n",
       "      <td>0.599963</td>\n",
       "      <td>36.308356</td>\n",
       "      <td>10.673852</td>\n",
       "    </tr>\n",
       "    <tr>\n",
       "      <th>2020-11-17 19:41:40</th>\n",
       "      <td>0.599963</td>\n",
       "      <td>36.308496</td>\n",
       "      <td>15.647089</td>\n",
       "    </tr>\n",
       "    <tr>\n",
       "      <th>2020-11-17 19:41:45</th>\n",
       "      <td>0.599963</td>\n",
       "      <td>36.308673</td>\n",
       "      <td>20.620143</td>\n",
       "    </tr>\n",
       "  </tbody>\n",
       "</table>\n",
       "</div>"
      ],
      "text/plain": [
       "                      Current    Voltage   rel_time\n",
       "Datetime                                           \n",
       "2020-11-17 19:41:25  0.599963  36.308162   1.576820\n",
       "2020-11-17 19:41:30  0.599963  36.308227   5.700747\n",
       "2020-11-17 19:41:35  0.599963  36.308356  10.673852\n",
       "2020-11-17 19:41:40  0.599963  36.308496  15.647089\n",
       "2020-11-17 19:41:45  0.599963  36.308673  20.620143"
      ]
     },
     "execution_count": 55,
     "metadata": {},
     "output_type": "execute_result"
    }
   ],
   "source": [
    "df3.head()"
   ]
  },
  {
   "cell_type": "code",
   "execution_count": 56,
   "metadata": {},
   "outputs": [],
   "source": [
    "# df2.tail()"
   ]
  },
  {
   "cell_type": "code",
   "execution_count": 57,
   "metadata": {},
   "outputs": [],
   "source": [
    "# start= pd.to_datetime(df2.iloc[6,1], format='%m/%d/%Y %H:%M:%S')"
   ]
  },
  {
   "cell_type": "code",
   "execution_count": 59,
   "metadata": {},
   "outputs": [],
   "source": [
    "# start2= pd.to_datetime(df2.iloc[6,1] + ' ' + df2.iloc[5,1])"
   ]
  },
  {
   "cell_type": "code",
   "execution_count": 60,
   "metadata": {},
   "outputs": [],
   "source": [
    "# start"
   ]
  },
  {
   "cell_type": "code",
   "execution_count": 61,
   "metadata": {},
   "outputs": [],
   "source": [
    "# df3['Datetime']=start+pd.to_timedelta(df3['rel_time'],unit='S')"
   ]
  },
  {
   "cell_type": "code",
   "execution_count": null,
   "metadata": {},
   "outputs": [],
   "source": []
  },
  {
   "cell_type": "code",
   "execution_count": 62,
   "metadata": {},
   "outputs": [],
   "source": [
    "# df3.tail()"
   ]
  },
  {
   "cell_type": "code",
   "execution_count": 12,
   "metadata": {},
   "outputs": [],
   "source": [
    "df3.to_excel('letid_data_mod94_3.xlsx')"
   ]
  },
  {
   "cell_type": "code",
   "execution_count": 13,
   "metadata": {},
   "outputs": [],
   "source": [
    "df3.index=df3['Datetime']"
   ]
  },
  {
   "cell_type": "code",
   "execution_count": 14,
   "metadata": {},
   "outputs": [
    {
     "data": {
      "text/html": [
       "<div>\n",
       "<style scoped>\n",
       "    .dataframe tbody tr th:only-of-type {\n",
       "        vertical-align: middle;\n",
       "    }\n",
       "\n",
       "    .dataframe tbody tr th {\n",
       "        vertical-align: top;\n",
       "    }\n",
       "\n",
       "    .dataframe thead th {\n",
       "        text-align: right;\n",
       "    }\n",
       "</style>\n",
       "<table border=\"1\" class=\"dataframe\">\n",
       "  <thead>\n",
       "    <tr style=\"text-align: right;\">\n",
       "      <th></th>\n",
       "      <th>Current</th>\n",
       "      <th>Voltage</th>\n",
       "      <th>rel_time</th>\n",
       "      <th>Datetime</th>\n",
       "    </tr>\n",
       "    <tr>\n",
       "      <th>Datetime</th>\n",
       "      <th></th>\n",
       "      <th></th>\n",
       "      <th></th>\n",
       "      <th></th>\n",
       "    </tr>\n",
       "  </thead>\n",
       "  <tbody>\n",
       "    <tr>\n",
       "      <th>2020-11-17 19:41:26.832000000</th>\n",
       "      <td>0.599964</td>\n",
       "      <td>36.308140</td>\n",
       "      <td>0.00000</td>\n",
       "      <td>2020-11-17 19:41:26.832000000</td>\n",
       "    </tr>\n",
       "    <tr>\n",
       "      <th>2020-11-17 19:41:27.074590189</th>\n",
       "      <td>0.599963</td>\n",
       "      <td>36.308182</td>\n",
       "      <td>0.24259</td>\n",
       "      <td>2020-11-17 19:41:27.074590189</td>\n",
       "    </tr>\n",
       "    <tr>\n",
       "      <th>2020-11-17 19:41:27.317180140</th>\n",
       "      <td>0.599963</td>\n",
       "      <td>36.308125</td>\n",
       "      <td>0.48518</td>\n",
       "      <td>2020-11-17 19:41:27.317180140</td>\n",
       "    </tr>\n",
       "    <tr>\n",
       "      <th>2020-11-17 19:41:27.559760077</th>\n",
       "      <td>0.599963</td>\n",
       "      <td>36.308140</td>\n",
       "      <td>0.72776</td>\n",
       "      <td>2020-11-17 19:41:27.559760077</td>\n",
       "    </tr>\n",
       "    <tr>\n",
       "      <th>2020-11-17 19:41:27.802350027</th>\n",
       "      <td>0.599963</td>\n",
       "      <td>36.308155</td>\n",
       "      <td>0.97035</td>\n",
       "      <td>2020-11-17 19:41:27.802350027</td>\n",
       "    </tr>\n",
       "  </tbody>\n",
       "</table>\n",
       "</div>"
      ],
      "text/plain": [
       "                                Current    Voltage  rel_time  \\\n",
       "Datetime                                                       \n",
       "2020-11-17 19:41:26.832000000  0.599964  36.308140   0.00000   \n",
       "2020-11-17 19:41:27.074590189  0.599963  36.308182   0.24259   \n",
       "2020-11-17 19:41:27.317180140  0.599963  36.308125   0.48518   \n",
       "2020-11-17 19:41:27.559760077  0.599963  36.308140   0.72776   \n",
       "2020-11-17 19:41:27.802350027  0.599963  36.308155   0.97035   \n",
       "\n",
       "                                                   Datetime  \n",
       "Datetime                                                     \n",
       "2020-11-17 19:41:26.832000000 2020-11-17 19:41:26.832000000  \n",
       "2020-11-17 19:41:27.074590189 2020-11-17 19:41:27.074590189  \n",
       "2020-11-17 19:41:27.317180140 2020-11-17 19:41:27.317180140  \n",
       "2020-11-17 19:41:27.559760077 2020-11-17 19:41:27.559760077  \n",
       "2020-11-17 19:41:27.802350027 2020-11-17 19:41:27.802350027  "
      ]
     },
     "execution_count": 14,
     "metadata": {},
     "output_type": "execute_result"
    }
   ],
   "source": [
    "df3.head()"
   ]
  },
  {
   "cell_type": "code",
   "execution_count": 15,
   "metadata": {},
   "outputs": [],
   "source": [
    "df3=df3.resample('5S').mean()"
   ]
  },
  {
   "cell_type": "code",
   "execution_count": 63,
   "metadata": {},
   "outputs": [],
   "source": [
    "# df3.head()"
   ]
  },
  {
   "cell_type": "code",
   "execution_count": 64,
   "metadata": {},
   "outputs": [],
   "source": [
    "# df3.info()"
   ]
  },
  {
   "cell_type": "code",
   "execution_count": 65,
   "metadata": {},
   "outputs": [],
   "source": [
    "# df3.to_excel('letid_data_mod94_3c.xlsx')"
   ]
  },
  {
   "cell_type": "code",
   "execution_count": 66,
   "metadata": {},
   "outputs": [],
   "source": [
    "# for i in tqdm(range(l)):\n",
    "#     f=data[i]\n",
    "#     df2=pd.read_excel(f)"
   ]
  },
  {
   "cell_type": "code",
   "execution_count": 67,
   "metadata": {},
   "outputs": [],
   "source": [
    "# df2.head()"
   ]
  },
  {
   "cell_type": "code",
   "execution_count": 37,
   "metadata": {},
   "outputs": [],
   "source": [
    "# df2.index=df2['Datetime']"
   ]
  },
  {
   "cell_type": "code",
   "execution_count": 68,
   "metadata": {},
   "outputs": [],
   "source": [
    "# df2.head()"
   ]
  },
  {
   "cell_type": "code",
   "execution_count": 69,
   "metadata": {},
   "outputs": [],
   "source": [
    "# df2=df2.resample('5S').mean()"
   ]
  },
  {
   "cell_type": "code",
   "execution_count": 70,
   "metadata": {},
   "outputs": [],
   "source": [
    "# df2.head()"
   ]
  },
  {
   "cell_type": "code",
   "execution_count": 71,
   "metadata": {},
   "outputs": [],
   "source": [
    "# df2.drop(['Unnamed: 0'],axis=1,inplace=True)"
   ]
  },
  {
   "cell_type": "code",
   "execution_count": 72,
   "metadata": {},
   "outputs": [],
   "source": [
    "# df2.head()"
   ]
  },
  {
   "cell_type": "code",
   "execution_count": 32,
   "metadata": {},
   "outputs": [],
   "source": [
    "# df1.to_excel('letid_data_mod94_1c.xlsx')"
   ]
  },
  {
   "cell_type": "code",
   "execution_count": 43,
   "metadata": {},
   "outputs": [],
   "source": [
    "# df2.to_excel('letid_data_mod94_2c.xlsx')"
   ]
  },
  {
   "cell_type": "code",
   "execution_count": 45,
   "metadata": {},
   "outputs": [
    {
     "name": "stderr",
     "output_type": "stream",
     "text": [
      "100%|████████████████████████████████████████████████████████████████████████████████████| 3/3 [00:34<00:00, 11.42s/it]\n"
     ]
    }
   ],
   "source": [
    "for i in tqdm(range(l)):\n",
    "    f=data[i]\n",
    "    df=pd.read_excel(f)\n",
    "    op.append_df_to_excel('letid_data_mod94_compiled.xlsx',df)"
   ]
  },
  {
   "cell_type": "code",
   "execution_count": null,
   "metadata": {},
   "outputs": [],
   "source": []
  }
 ],
 "metadata": {
  "kernelspec": {
   "display_name": "Python 3",
   "language": "python",
   "name": "python3"
  },
  "language_info": {
   "codemirror_mode": {
    "name": "ipython",
    "version": 3
   },
   "file_extension": ".py",
   "mimetype": "text/x-python",
   "name": "python",
   "nbconvert_exporter": "python",
   "pygments_lexer": "ipython3",
   "version": "3.7.6"
  }
 },
 "nbformat": 4,
 "nbformat_minor": 4
}
