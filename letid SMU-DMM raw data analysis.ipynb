{
 "cells": [
  {
   "cell_type": "code",
   "execution_count": 2,
   "metadata": {},
   "outputs": [],
   "source": [
    "import pandas as pd\n",
    "import op\n",
    "from tqdm import tqdm\n",
    "import matplotlib.pyplot as plt\n",
    "import datetime"
   ]
  },
  {
   "cell_type": "code",
   "execution_count": 30,
   "metadata": {},
   "outputs": [],
   "source": [
    "#get SMU and DMM files\n",
    "smu_data=list(op.getting_files())\n",
    "l1=len(smu_data)\n",
    "dmm_data=list(op.getting_files())\n",
    "l2=len(dmm_data)"
   ]
  },
  {
   "cell_type": "code",
   "execution_count": 31,
   "metadata": {},
   "outputs": [],
   "source": [
    "dates=pd.to_datetime(['2020-12-11 19:45:07',\n",
    "                      '2020-12-15 12:46:07',\n",
    "                      '2020-12-15 20:35:07',\n",
    "                      '2020-12-17 12:26:35',\n",
    "                      '2020-12-17 20:54:31'])"
   ]
  },
  {
   "cell_type": "code",
   "execution_count": 76,
   "metadata": {
    "scrolled": false
   },
   "outputs": [
    {
     "name": "stderr",
     "output_type": "stream",
     "text": [
      "100%|████████████████████████████████████████████████████████████████████████████████████| 5/5 [01:00<00:00, 12.07s/it]\n"
     ]
    }
   ],
   "source": [
    "for i in tqdm(range(l1)):\n",
    "    #smu data processing\n",
    "    if i==0:\n",
    "        df1=pd.read_csv(smu_data[i],header=0,names=['num','Time','Id','Vd','Power','Resistance'])\n",
    "    else:\n",
    "        df1=pd.read_csv(smu_data[i],skiprows=35,header=0,names=['num','Time','Id','Vd','Power','Resistance'])\n",
    "    \n",
    "    df1.drop(['num','Power','Resistance'],axis=1,inplace=True)\n",
    "    df1['Datetime']=dates[i]+pd.to_timedelta(df1['Time'],unit='S')\n",
    "    df1.index=df1['Datetime']\n",
    "    df1.drop(['Time','Datetime'],axis=1,inplace=True)\n",
    "    df1=df1.resample('1S').mean()\n",
    "    df1.fillna(value=None,method='backfill',limit=2,inplace=True)\n",
    "    df1=df1.resample('5S').mean()\n",
    "    \n",
    "    #dmm data processing\n",
    "    if i==0:\n",
    "        df2=pd.read_csv(dmm_data[i],header=0,names=['num','Time','Temp'])\n",
    "    \n",
    "    else:\n",
    "        df2=pd.read_csv(dmm_data[i],skiprows=26,header=0,names=['num','Time','Temp'])\n",
    "    \n",
    "    df2['Datetime']=dates[i]+pd.to_timedelta(df2['Time'],unit='S')\n",
    "    df2.index=df2['Datetime']\n",
    "    df2.drop(['num','Time','Datetime'],axis=1,inplace=True)\n",
    "    df2=df2.resample('1S').mean()\n",
    "    df2.fillna(value=None,method='backfill',limit=2,inplace=True)\n",
    "    df2=df2.resample('5S').mean()\n",
    "    \n",
    "    #merging smu and dmm data\n",
    "    df = pd.merge(df1,df2,left_index=True,right_index=True,how='inner')\n",
    "    df.dropna(inplace=True)\n",
    "#     print(df.info())\n",
    "    op.append_df_to_excel('smu-dmm data merged.xlsx',df)\n",
    "    "
   ]
  },
  {
   "cell_type": "code",
   "execution_count": 64,
   "metadata": {},
   "outputs": [],
   "source": [
    "# # dff=pd.read_csv(smu_data[0],header=0,names=['num','Time','Id','Vd','Power','Resistance'])\n",
    "\n",
    "# dff=pd.read_csv(smu_data[4],skiprows=35,header=0,names=['num','Time','Id','Vd','Power','Resistance'])\n",
    "\n",
    "# dff.drop(['num','Power','Resistance'],axis=1,inplace=True)\n",
    "# dff['Datetime']=dates[4]+pd.to_timedelta(dff['Time'],unit='S')\n",
    "# dff.index=dff['Datetime']\n",
    "# dff.drop(['Time','Datetime'],axis=1,inplace=True)\n",
    "# dff=dff.resample('1S').mean()\n",
    "# # r = pd.date_range(start=dff.index.min(),end=dff.index.max(),freq='1s')\n",
    "# # dff = dff.reindex(r)\n",
    "# dff.fillna(value=None,method='backfill',limit=2,inplace=True)\n",
    "# dff=dff.resample('5S').mean()"
   ]
  },
  {
   "cell_type": "code",
   "execution_count": 75,
   "metadata": {},
   "outputs": [],
   "source": [
    "# dff.info()"
   ]
  },
  {
   "cell_type": "code",
   "execution_count": 70,
   "metadata": {},
   "outputs": [],
   "source": [
    "# # dff2=pd.read_csv(dmm_data[0],header=0,names=['num','Time','Temp'])\n",
    "\n",
    "# dff2=pd.read_csv(dmm_data[4],skiprows=26,header=0,names=['num','Time','Temp'])\n",
    "\n",
    "# dff2['Datetime']=dates[4]+pd.to_timedelta(dff2['Time'],unit='S')\n",
    "# dff2.index=dff2['Datetime']\n",
    "# dff2.drop(['num','Time','Datetime'],axis=1,inplace=True)\n",
    "# dff2=dff2.resample('1S').mean()\n",
    "# dff2.fillna(value=None,method='backfill',limit=2,inplace=True)\n",
    "# dff2=dff2.resample('5S').mean()"
   ]
  },
  {
   "cell_type": "code",
   "execution_count": 74,
   "metadata": {},
   "outputs": [],
   "source": [
    "# dff2.info()"
   ]
  },
  {
   "cell_type": "code",
   "execution_count": 77,
   "metadata": {},
   "outputs": [],
   "source": [
    "data = list(op.getting_files())"
   ]
  },
  {
   "cell_type": "code",
   "execution_count": 78,
   "metadata": {},
   "outputs": [],
   "source": [
    "df = pd.read_excel(data[0],index_col='Datetime')"
   ]
  },
  {
   "cell_type": "code",
   "execution_count": 79,
   "metadata": {},
   "outputs": [
    {
     "name": "stdout",
     "output_type": "stream",
     "text": [
      "<class 'pandas.core.frame.DataFrame'>\n",
      "Index: 137136 entries, 2020-12-11 19:45:05 to 2020-12-21 09:29:40\n",
      "Data columns (total 3 columns):\n",
      " #   Column  Non-Null Count   Dtype  \n",
      "---  ------  --------------   -----  \n",
      " 0   Id      137136 non-null  float64\n",
      " 1   Vd      137136 non-null  float64\n",
      " 2   Temp    137136 non-null  float64\n",
      "dtypes: float64(3)\n",
      "memory usage: 4.2+ MB\n"
     ]
    }
   ],
   "source": [
    "df.info()"
   ]
  },
  {
   "cell_type": "code",
   "execution_count": 80,
   "metadata": {},
   "outputs": [],
   "source": [
    "#current filter parameters\n",
    "Uel=0.024\n",
    "set_curr=0.67\n",
    "variation=0.67*Uel\n",
    "\n",
    "#voltage correction parameters\n",
    "B=-0.27"
   ]
  },
  {
   "cell_type": "code",
   "execution_count": 81,
   "metadata": {},
   "outputs": [],
   "source": [
    "'''filtering the data'''\n",
    "df1=df[(df['Temp']<78) & (df['Temp']>72)]                                   # temperature filter\n",
    "df1=df1[(df1['Id']<(set_curr+variation)) & (df1['Id']>(set_curr-variation))]     # current filter"
   ]
  },
  {
   "cell_type": "code",
   "execution_count": 82,
   "metadata": {},
   "outputs": [
    {
     "name": "stdout",
     "output_type": "stream",
     "text": [
      "<class 'pandas.core.frame.DataFrame'>\n",
      "Index: 99552 entries, 2020-12-11 20:02:05 to 2020-12-21 09:29:40\n",
      "Data columns (total 3 columns):\n",
      " #   Column  Non-Null Count  Dtype  \n",
      "---  ------  --------------  -----  \n",
      " 0   Id      99552 non-null  float64\n",
      " 1   Vd      99552 non-null  float64\n",
      " 2   Temp    99552 non-null  float64\n",
      "dtypes: float64(3)\n",
      "memory usage: 3.0+ MB\n"
     ]
    }
   ],
   "source": [
    "df1.info()"
   ]
  },
  {
   "cell_type": "code",
   "execution_count": 83,
   "metadata": {},
   "outputs": [],
   "source": [
    "'''Adding Temperature corrected voltage(Vd_corr)'''\n",
    "df1['Vd_corr']=B*(75-df1['Temp'])+df1['Vd']"
   ]
  },
  {
   "cell_type": "code",
   "execution_count": 84,
   "metadata": {},
   "outputs": [
    {
     "name": "stderr",
     "output_type": "stream",
     "text": [
      "100%|███████████████████████████████████████████████████████████████████████████| 99552/99552 [14:58<00:00, 110.77it/s]\n"
     ]
    }
   ],
   "source": [
    "'''Adding %change in Vd_corr''' \n",
    "df1['Vd_corr_%change']=0\n",
    "for i in tqdm(range(len(df1))):\n",
    "    if i==0:\n",
    "        df1.iloc[i,4]=0\n",
    "    else:\n",
    "        df1.iloc[i,4]=100*(df1['Vd_corr'][i]-df1['Vd_corr'][i-1])/(df1['Vd_corr'][i-1])"
   ]
  },
  {
   "cell_type": "code",
   "execution_count": 85,
   "metadata": {},
   "outputs": [],
   "source": [
    "df4 = df1.copy()"
   ]
  },
  {
   "cell_type": "code",
   "execution_count": 86,
   "metadata": {},
   "outputs": [],
   "source": [
    "# df4=df4.resample('5S').mean()\n",
    "df4.dropna(inplace=True)\n",
    "df4.reset_index(inplace=True)\n",
    "df4.rename(columns={'index':'date'},inplace=True)"
   ]
  },
  {
   "cell_type": "code",
   "execution_count": 87,
   "metadata": {},
   "outputs": [
    {
     "data": {
      "text/html": [
       "<div>\n",
       "<style scoped>\n",
       "    .dataframe tbody tr th:only-of-type {\n",
       "        vertical-align: middle;\n",
       "    }\n",
       "\n",
       "    .dataframe tbody tr th {\n",
       "        vertical-align: top;\n",
       "    }\n",
       "\n",
       "    .dataframe thead th {\n",
       "        text-align: right;\n",
       "    }\n",
       "</style>\n",
       "<table border=\"1\" class=\"dataframe\">\n",
       "  <thead>\n",
       "    <tr style=\"text-align: right;\">\n",
       "      <th></th>\n",
       "      <th>Datetime</th>\n",
       "      <th>Id</th>\n",
       "      <th>Vd</th>\n",
       "      <th>Temp</th>\n",
       "      <th>Vd_corr</th>\n",
       "      <th>Vd_corr_%change</th>\n",
       "    </tr>\n",
       "  </thead>\n",
       "  <tbody>\n",
       "    <tr>\n",
       "      <th>0</th>\n",
       "      <td>2020-12-11 20:02:05</td>\n",
       "      <td>0.669987</td>\n",
       "      <td>36.106913</td>\n",
       "      <td>72.009622</td>\n",
       "      <td>35.299511</td>\n",
       "      <td>0.000000</td>\n",
       "    </tr>\n",
       "    <tr>\n",
       "      <th>1</th>\n",
       "      <td>2020-12-11 20:02:10</td>\n",
       "      <td>0.669987</td>\n",
       "      <td>36.100464</td>\n",
       "      <td>72.046185</td>\n",
       "      <td>35.302934</td>\n",
       "      <td>0.009696</td>\n",
       "    </tr>\n",
       "    <tr>\n",
       "      <th>2</th>\n",
       "      <td>2020-12-11 20:02:15</td>\n",
       "      <td>0.669987</td>\n",
       "      <td>36.096130</td>\n",
       "      <td>72.069633</td>\n",
       "      <td>35.304931</td>\n",
       "      <td>0.005658</td>\n",
       "    </tr>\n",
       "    <tr>\n",
       "      <th>3</th>\n",
       "      <td>2020-12-11 20:02:20</td>\n",
       "      <td>0.669987</td>\n",
       "      <td>36.089508</td>\n",
       "      <td>72.106030</td>\n",
       "      <td>35.308136</td>\n",
       "      <td>0.009078</td>\n",
       "    </tr>\n",
       "    <tr>\n",
       "      <th>4</th>\n",
       "      <td>2020-12-11 20:02:25</td>\n",
       "      <td>0.669988</td>\n",
       "      <td>36.083206</td>\n",
       "      <td>72.132623</td>\n",
       "      <td>35.309014</td>\n",
       "      <td>0.002487</td>\n",
       "    </tr>\n",
       "  </tbody>\n",
       "</table>\n",
       "</div>"
      ],
      "text/plain": [
       "              Datetime        Id         Vd       Temp    Vd_corr  \\\n",
       "0  2020-12-11 20:02:05  0.669987  36.106913  72.009622  35.299511   \n",
       "1  2020-12-11 20:02:10  0.669987  36.100464  72.046185  35.302934   \n",
       "2  2020-12-11 20:02:15  0.669987  36.096130  72.069633  35.304931   \n",
       "3  2020-12-11 20:02:20  0.669987  36.089508  72.106030  35.308136   \n",
       "4  2020-12-11 20:02:25  0.669988  36.083206  72.132623  35.309014   \n",
       "\n",
       "   Vd_corr_%change  \n",
       "0         0.000000  \n",
       "1         0.009696  \n",
       "2         0.005658  \n",
       "3         0.009078  \n",
       "4         0.002487  "
      ]
     },
     "execution_count": 87,
     "metadata": {},
     "output_type": "execute_result"
    }
   ],
   "source": [
    "df4.head()"
   ]
  },
  {
   "cell_type": "code",
   "execution_count": 88,
   "metadata": {},
   "outputs": [],
   "source": [
    "df4['avg_Vd_corr%change']=df4.iloc[:,5].rolling(window=720).mean()"
   ]
  },
  {
   "cell_type": "code",
   "execution_count": 91,
   "metadata": {},
   "outputs": [],
   "source": [
    "df4=df4[(df4['Vd_corr_%change']>-0.15) & (df4['Vd_corr_%change']<0.25)]"
   ]
  },
  {
   "cell_type": "code",
   "execution_count": 94,
   "metadata": {},
   "outputs": [],
   "source": [
    "df4.to_excel('letid_data_SMU-DMM_filtered.xlsx')"
   ]
  },
  {
   "cell_type": "code",
   "execution_count": 93,
   "metadata": {},
   "outputs": [
    {
     "data": {
      "image/png": "[encoded data removed]",
      "text/plain": [
       "<Figure size 1080x720 with 1 Axes>"
      ]
     },
     "metadata": {
      "needs_background": "light"
     },
     "output_type": "display_data"
    }
   ],
   "source": [
    "plt.figure(figsize=[15,10])\n",
    "plt.grid(True)\n",
    "plt.plot(df4['Vd_corr_%change'],label='variation of Dark voltage [%]')\n",
    "plt.plot(df4['avg_Vd_corr%change'],label='hourly moving average value')\n",
    "plt.legend(loc=2)\n",
    "plt.xlabel('Arbitrary unit (a.u.)',fontsize=15)\n",
    "plt.ylabel('variation (%)',fontsize=15)\n",
    "plt.ylim(-1,1)\n",
    "plt.savefig('letid_data_SMU-DMM_filtered_plot.jpeg')\n",
    "plt.show()"
   ]
  },
  {
   "cell_type": "code",
   "execution_count": null,
   "metadata": {},
   "outputs": [],
   "source": []
  }
 ],
 "metadata": {
  "kernelspec": {
   "display_name": "Python 3",
   "language": "python",
   "name": "python3"
  },
  "language_info": {
   "codemirror_mode": {
    "name": "ipython",
    "version": 3
   },
   "file_extension": ".py",
   "mimetype": "text/x-python",
   "name": "python",
   "nbconvert_exporter": "python",
   "pygments_lexer": "ipython3",
   "version": "3.7.6"
  }
 },
 "nbformat": 4,
 "nbformat_minor": 4
}
